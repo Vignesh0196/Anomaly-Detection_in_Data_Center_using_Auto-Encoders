{
  "nbformat": 4,
  "nbformat_minor": 0,
  "metadata": {
    "kernelspec": {
      "display_name": "Python 3",
      "language": "python",
      "name": "python3"
    },
    "language_info": {
      "codemirror_mode": {
        "name": "ipython",
        "version": 3
      },
      "file_extension": ".py",
      "mimetype": "text/x-python",
      "name": "python",
      "nbconvert_exporter": "python",
      "pygments_lexer": "ipython3",
      "version": "3.6.1"
    },
    "colab": {
      "name": "Copy of AutoEncoders-for-Anomaly-Detection_Matplotlib.ipynb",
      "provenance": [],
      "collapsed_sections": []
    }
  },
  "cells": [
    {
      "cell_type": "code",
      "metadata": {
        "colab": {
          "base_uri": "https://localhost:8080/"
        },
        "id": "rB5ypmqjbBVc",
        "outputId": "d03314c8-2822-4ea1-a51f-8c759177d39a"
      },
      "source": [
        "!pip install ann_visualizer"
      ],
      "execution_count": null,
      "outputs": [
        {
          "output_type": "stream",
          "text": [
            "Requirement already satisfied: ann_visualizer in /usr/local/lib/python3.6/dist-packages (2.5)\n"
          ],
          "name": "stdout"
        }
      ]
    },
    {
      "cell_type": "code",
      "metadata": {
        "id": "DI8hf53JZPye"
      },
      "source": [
        "import warnings\n",
        "warnings.filterwarnings(\"ignore\")"
      ],
      "execution_count": null,
      "outputs": []
    },
    {
      "cell_type": "code",
      "metadata": {
        "id": "L2AXwfwIZPyf"
      },
      "source": [
        "import numpy\n",
        "import pandas\n",
        "import matplotlib\n",
        "import seaborn\n",
        "import tensorflow\n",
        "import keras"
      ],
      "execution_count": null,
      "outputs": []
    },
    {
      "cell_type": "code",
      "metadata": {
        "id": "v06gb_q8ZPyi"
      },
      "source": [
        "import numpy as np\n",
        "import pandas as pd\n",
        "pd.set_option('display.max_columns', None)\n",
        "pd.set_option('display.max_row', None)\n",
        "import matplotlib.pyplot as plt\n",
        "plt.rcdefaults()\n",
        "from pylab import rcParams\n",
        "import seaborn as sns\n",
        "%matplotlib inline\n",
        "\n",
        "####### Deep learning libraries\n",
        "import tensorflow as tf\n",
        "import keras\n",
        "from keras.models import Model, load_model\n",
        "from keras.layers import Input, Dense\n",
        "from keras.callbacks import ModelCheckpoint, TensorBoard\n",
        "from keras import regularizers\n",
        "from ann_visualizer.visualize import ann_viz\n",
        "# \n",
        "from sklearn.preprocessing import  StandardScaler, MinMaxScaler\n",
        "from sklearn.model_selection import train_test_split\n",
        "\n",
        "from sklearn.metrics import (confusion_matrix, classification_report, accuracy_score, roc_auc_score, auc,\n",
        "                             precision_score, recall_score, roc_curve, precision_recall_curve,\n",
        "                             precision_recall_fscore_support, f1_score,\n",
        "                             precision_recall_fscore_support)\n",
        "#\n",
        "from IPython.display import display, Math, Latex\n"
      ],
      "execution_count": null,
      "outputs": []
    },
    {
      "cell_type": "markdown",
      "metadata": {
        "id": "FrgUoXeyZPyj"
      },
      "source": [
        "# Load Data"
      ]
    },
    {
      "cell_type": "code",
      "metadata": {
        "id": "vEK2WbE3ad04"
      },
      "source": [
        "sl = pd.read_csv('./system_logs.csv')"
      ],
      "execution_count": null,
      "outputs": []
    },
    {
      "cell_type": "code",
      "metadata": {
        "colab": {
          "base_uri": "https://localhost:8080/",
          "height": 255
        },
        "id": "lN0r7gfWajzC",
        "outputId": "c4f9d3b1-fd53-4e95-8d07-c8c6c7ce01b2"
      },
      "source": [
        "sl[sl['Label']==1].head()"
      ],
      "execution_count": null,
      "outputs": [
        {
          "output_type": "execute_result",
          "data": {
            "text/html": [
              "<div>\n",
              "<style scoped>\n",
              "    .dataframe tbody tr th:only-of-type {\n",
              "        vertical-align: middle;\n",
              "    }\n",
              "\n",
              "    .dataframe tbody tr th {\n",
              "        vertical-align: top;\n",
              "    }\n",
              "\n",
              "    .dataframe thead th {\n",
              "        text-align: right;\n",
              "    }\n",
              "</style>\n",
              "<table border=\"1\" class=\"dataframe\">\n",
              "  <thead>\n",
              "    <tr style=\"text-align: right;\">\n",
              "      <th></th>\n",
              "      <th>Timestamp [ms]</th>\n",
              "      <th>\\tCPU cores</th>\n",
              "      <th>\\tCPU capacity provisioned [MHZ]</th>\n",
              "      <th>\\tCPU usage [MHZ]</th>\n",
              "      <th>\\tCPU usage [%]</th>\n",
              "      <th>\\tMemory capacity provisioned [KB]</th>\n",
              "      <th>\\tMemory usage [KB]</th>\n",
              "      <th>\\tDisk read throughput [KB/s]</th>\n",
              "      <th>\\tDisk write throughput [KB/s]</th>\n",
              "      <th>\\tNetwork received throughput [KB/s]</th>\n",
              "      <th>\\tNetwork transmitted throughput [KB/s]</th>\n",
              "      <th>Label</th>\n",
              "    </tr>\n",
              "  </thead>\n",
              "  <tbody>\n",
              "    <tr>\n",
              "      <th>276</th>\n",
              "      <td>1376397652</td>\n",
              "      <td>4</td>\n",
              "      <td>11703.99824</td>\n",
              "      <td>11075.883668</td>\n",
              "      <td>94.633333</td>\n",
              "      <td>67108864.0</td>\n",
              "      <td>7.739887e+06</td>\n",
              "      <td>0.000000</td>\n",
              "      <td>6329.133333</td>\n",
              "      <td>0.0</td>\n",
              "      <td>1.400000</td>\n",
              "      <td>1</td>\n",
              "    </tr>\n",
              "    <tr>\n",
              "      <th>290</th>\n",
              "      <td>1376401853</td>\n",
              "      <td>4</td>\n",
              "      <td>11703.99824</td>\n",
              "      <td>11073.933001</td>\n",
              "      <td>94.616667</td>\n",
              "      <td>67108864.0</td>\n",
              "      <td>1.530082e+07</td>\n",
              "      <td>0.066667</td>\n",
              "      <td>8233.200000</td>\n",
              "      <td>0.0</td>\n",
              "      <td>1.533333</td>\n",
              "      <td>1</td>\n",
              "    </tr>\n",
              "    <tr>\n",
              "      <th>294</th>\n",
              "      <td>1376403053</td>\n",
              "      <td>4</td>\n",
              "      <td>11703.99824</td>\n",
              "      <td>11085.637000</td>\n",
              "      <td>94.716667</td>\n",
              "      <td>67108864.0</td>\n",
              "      <td>2.478554e+07</td>\n",
              "      <td>0.066667</td>\n",
              "      <td>8676.200000</td>\n",
              "      <td>5.4</td>\n",
              "      <td>1.600000</td>\n",
              "      <td>1</td>\n",
              "    </tr>\n",
              "    <tr>\n",
              "      <th>314</th>\n",
              "      <td>1376409054</td>\n",
              "      <td>4</td>\n",
              "      <td>11703.99824</td>\n",
              "      <td>11068.081002</td>\n",
              "      <td>94.566667</td>\n",
              "      <td>67108864.0</td>\n",
              "      <td>5.234490e+06</td>\n",
              "      <td>0.200000</td>\n",
              "      <td>8219.800000</td>\n",
              "      <td>0.0</td>\n",
              "      <td>1.533333</td>\n",
              "      <td>1</td>\n",
              "    </tr>\n",
              "    <tr>\n",
              "      <th>343</th>\n",
              "      <td>1376417755</td>\n",
              "      <td>4</td>\n",
              "      <td>11703.99824</td>\n",
              "      <td>11073.933001</td>\n",
              "      <td>94.616667</td>\n",
              "      <td>67108864.0</td>\n",
              "      <td>7.471451e+06</td>\n",
              "      <td>0.133333</td>\n",
              "      <td>9396.933333</td>\n",
              "      <td>0.0</td>\n",
              "      <td>1.533333</td>\n",
              "      <td>1</td>\n",
              "    </tr>\n",
              "  </tbody>\n",
              "</table>\n",
              "</div>"
            ],
            "text/plain": [
              "     Timestamp [ms]  \\tCPU cores  \\tCPU capacity provisioned [MHZ]  \\\n",
              "276      1376397652            4                       11703.99824   \n",
              "290      1376401853            4                       11703.99824   \n",
              "294      1376403053            4                       11703.99824   \n",
              "314      1376409054            4                       11703.99824   \n",
              "343      1376417755            4                       11703.99824   \n",
              "\n",
              "     \\tCPU usage [MHZ]  \\tCPU usage [%]  \\tMemory capacity provisioned [KB]  \\\n",
              "276       11075.883668        94.633333                          67108864.0   \n",
              "290       11073.933001        94.616667                          67108864.0   \n",
              "294       11085.637000        94.716667                          67108864.0   \n",
              "314       11068.081002        94.566667                          67108864.0   \n",
              "343       11073.933001        94.616667                          67108864.0   \n",
              "\n",
              "     \\tMemory usage [KB]  \\tDisk read throughput [KB/s]  \\\n",
              "276         7.739887e+06                       0.000000   \n",
              "290         1.530082e+07                       0.066667   \n",
              "294         2.478554e+07                       0.066667   \n",
              "314         5.234490e+06                       0.200000   \n",
              "343         7.471451e+06                       0.133333   \n",
              "\n",
              "     \\tDisk write throughput [KB/s]  \\tNetwork received throughput [KB/s]  \\\n",
              "276                     6329.133333                                   0.0   \n",
              "290                     8233.200000                                   0.0   \n",
              "294                     8676.200000                                   5.4   \n",
              "314                     8219.800000                                   0.0   \n",
              "343                     9396.933333                                   0.0   \n",
              "\n",
              "     \\tNetwork transmitted throughput [KB/s]  Label  \n",
              "276                                 1.400000      1  \n",
              "290                                 1.533333      1  \n",
              "294                                 1.600000      1  \n",
              "314                                 1.533333      1  \n",
              "343                                 1.533333      1  "
            ]
          },
          "metadata": {
            "tags": []
          },
          "execution_count": 184
        }
      ]
    },
    {
      "cell_type": "code",
      "metadata": {
        "id": "d99ggQv1a3vD"
      },
      "source": [
        "df1 = sl[['\\tCPU usage [%]', '\\tMemory usage [KB]', 'Label']]"
      ],
      "execution_count": null,
      "outputs": []
    },
    {
      "cell_type": "code",
      "metadata": {
        "id": "R7oYsdAabp2R"
      },
      "source": [
        "df1.columns = ['cpu_usage', 'memory_usage[kb]', 'label']"
      ],
      "execution_count": null,
      "outputs": []
    },
    {
      "cell_type": "code",
      "metadata": {
        "colab": {
          "base_uri": "https://localhost:8080/"
        },
        "id": "PlW0voOgc_Y4",
        "outputId": "c1f9705e-2a8a-40b3-f1a5-166e48eaf31f"
      },
      "source": [
        "df1.shape"
      ],
      "execution_count": null,
      "outputs": [
        {
          "output_type": "execute_result",
          "data": {
            "text/plain": [
              "(8634, 3)"
            ]
          },
          "metadata": {
            "tags": []
          },
          "execution_count": 187
        }
      ]
    },
    {
      "cell_type": "code",
      "metadata": {
        "colab": {
          "base_uri": "https://localhost:8080/",
          "height": 441
        },
        "id": "JlkkSqMDc_eG",
        "outputId": "07e104e7-b8cb-46d9-90b5-36cc7241ab12"
      },
      "source": [
        "plt.figure(figsize=(8,6))\r\n",
        "objects = tuple(['0', '1']) \r\n",
        "y_pos = np.arange(len(objects))\r\n",
        "x   = np.arange(len(objects))\r\n",
        "y   = df1.label.value_counts().tolist()\r\n",
        "plt.bar(x, y, align='center', alpha=0.5)\r\n",
        "plt.xticks(y_pos, objects,fontsize=18)\r\n",
        "plt.xlabel('Label', fontsize=18)\r\n",
        "plt.ylabel('Frequency', fontsize=18)\r\n",
        "plt.title('Data per Label',fontsize=18)\r\n"
      ],
      "execution_count": null,
      "outputs": [
        {
          "output_type": "execute_result",
          "data": {
            "text/plain": [
              "Text(0.5, 1.0, 'Data per Label')"
            ]
          },
          "metadata": {
            "tags": []
          },
          "execution_count": 188
        },
        {
          "output_type": "display_data",
          "data": {
            "image/png": "[encoded data removed]",
            "text/plain": [
              "<Figure size 576x432 with 1 Axes>"
            ]
          },
          "metadata": {
            "tags": [],
            "needs_background": "light"
          }
        }
      ]
    },
    {
      "cell_type": "markdown",
      "metadata": {
        "id": "Zh5KYoKMZPyp"
      },
      "source": [
        "# Data Preprocessing"
      ]
    },
    {
      "cell_type": "code",
      "metadata": {
        "colab": {
          "base_uri": "https://localhost:8080/"
        },
        "id": "syAmyQVIeRVb",
        "outputId": "319391da-60b7-4bd5-ba45-79eedf155712"
      },
      "source": [
        "RANDOM_SEED = 200\r\n",
        "X_train, X_test = train_test_split(df1, test_size=0.2, random_state = RANDOM_SEED)\r\n",
        "X_train = X_train[X_train['label'] == 0]\r\n",
        "X_train = X_train.drop(['label'], axis=1)\r\n",
        "y_test  = X_test['label']\r\n",
        "X_test  = X_test.drop(['label'], axis=1)\r\n",
        "X_train = X_train.values\r\n",
        "X_test  = X_test.values\r\n",
        "print('Training data size   :', X_train.shape)\r\n",
        "print('Validation data size :', X_test.shape)"
      ],
      "execution_count": null,
      "outputs": [
        {
          "output_type": "stream",
          "text": [
            "Training data size   : (6900, 2)\n",
            "Validation data size : (1727, 2)\n"
          ],
          "name": "stdout"
        }
      ]
    },
    {
      "cell_type": "markdown",
      "metadata": {
        "id": "VF9_VSFqZPyq"
      },
      "source": [
        "# Data Scaling"
      ]
    },
    {
      "cell_type": "code",
      "metadata": {
        "id": "Znqs3epNZPyq"
      },
      "source": [
        "scaler = MinMaxScaler()\n",
        "X_train_scaled = scaler.fit_transform(X_train)\n",
        "X_test_scaled  = scaler.transform(X_test)"
      ],
      "execution_count": null,
      "outputs": []
    },
    {
      "cell_type": "markdown",
      "metadata": {
        "id": "--rYdOi1ZPyq"
      },
      "source": [
        "# Modeling"
      ]
    },
    {
      "cell_type": "code",
      "metadata": {
        "colab": {
          "base_uri": "https://localhost:8080/"
        },
        "id": "X9rWFBrzZPyr",
        "outputId": "ba6b2149-e565-4b70-bf57-4412a0665d06"
      },
      "source": [
        "input_dim = X_train.shape[1]\n",
        "encoding_dim = 6\n",
        "\n",
        "input_layer = Input(shape=(input_dim, ))\n",
        "encoder = Dense(encoding_dim, activation=\"tanh\",activity_regularizer=regularizers.l1(10e-5))(input_layer)\n",
        "encoder = Dense(int(encoding_dim / 2), activation=\"tanh\")(encoder)\n",
        "encoder = Dense(int(encoding_dim / 4), activation=\"tanh\")(encoder)\n",
        "decoder = Dense(int(encoding_dim/ 2), activation='tanh')(encoder)\n",
        "decoder = Dense(int(encoding_dim), activation='tanh')(decoder)\n",
        "decoder = Dense(input_dim, activation='tanh')(decoder)\n",
        "autoencoder = Model(inputs=input_layer, outputs=decoder)\n",
        "autoencoder.summary()"
      ],
      "execution_count": null,
      "outputs": [
        {
          "output_type": "stream",
          "text": [
            "Model: \"model_5\"\n",
            "_________________________________________________________________\n",
            "Layer (type)                 Output Shape              Param #   \n",
            "=================================================================\n",
            "input_6 (InputLayer)         [(None, 2)]               0         \n",
            "_________________________________________________________________\n",
            "dense_30 (Dense)             (None, 6)                 18        \n",
            "_________________________________________________________________\n",
            "dense_31 (Dense)             (None, 3)                 21        \n",
            "_________________________________________________________________\n",
            "dense_32 (Dense)             (None, 1)                 4         \n",
            "_________________________________________________________________\n",
            "dense_33 (Dense)             (None, 3)                 6         \n",
            "_________________________________________________________________\n",
            "dense_34 (Dense)             (None, 6)                 24        \n",
            "_________________________________________________________________\n",
            "dense_35 (Dense)             (None, 2)                 14        \n",
            "=================================================================\n",
            "Total params: 87\n",
            "Trainable params: 87\n",
            "Non-trainable params: 0\n",
            "_________________________________________________________________\n"
          ],
          "name": "stdout"
        }
      ]
    },
    {
      "cell_type": "code",
      "metadata": {
        "id": "YX3f5Y0NZPys"
      },
      "source": [
        "nb_epoch = 100\n",
        "batch_size = 50\n",
        "autoencoder.compile(optimizer='adam', loss='mse' )\n",
        "\n",
        "history = autoencoder.fit(X_train_scaled, X_train_scaled,\n",
        "                        epochs=nb_epoch,\n",
        "                        batch_size=batch_size,\n",
        "                        shuffle=True,\n",
        "                        validation_split=0.1,\n",
        "                        verbose=0\n",
        "                        ).history"
      ],
      "execution_count": null,
      "outputs": []
    },
    {
      "cell_type": "code",
      "metadata": {
        "colab": {
          "base_uri": "https://localhost:8080/",
          "height": 505
        },
        "id": "_aOGXOcvZPys",
        "outputId": "f04d32c7-3a55-4858-8957-ee6c9b181134"
      },
      "source": [
        "plt.figure(figsize=(12,8))\n",
        "plt.plot(history['loss'])\n",
        "plt.plot(history['val_loss'])\n",
        "plt.ylabel('Loss',fontsize= 18)\n",
        "plt.xlabel('Epoch',fontsize= 18)\n",
        "plt.legend(['train', 'validation_loss'], loc='upper right', fontsize= 18);"
      ],
      "execution_count": null,
      "outputs": [
        {
          "output_type": "display_data",
          "data": {
            "image/png": "[encoded data removed]",
            "text/plain": [
              "<Figure size 864x576 with 1 Axes>"
            ]
          },
          "metadata": {
            "tags": [],
            "needs_background": "light"
          }
        }
      ]
    },
    {
      "cell_type": "markdown",
      "metadata": {
        "id": "YRq36EZwZPyt"
      },
      "source": [
        "# Predictions & Reconstruction Error"
      ]
    },
    {
      "cell_type": "code",
      "metadata": {
        "colab": {
          "base_uri": "https://localhost:8080/",
          "height": 297
        },
        "id": "JRDDcOLvZPyt",
        "outputId": "f633944e-d06d-4a5e-a1c4-0af2353ca696"
      },
      "source": [
        "predictions = autoencoder.predict(X_test_scaled)\n",
        "\n",
        "mse = np.mean(np.power(X_test_scaled - predictions, 2), axis=1)\n",
        "df_error = pd.DataFrame({'reconstruction_error': mse, 'Label': y_test}, index=y_test.index)\n",
        "df_error.describe()\n"
      ],
      "execution_count": null,
      "outputs": [
        {
          "output_type": "execute_result",
          "data": {
            "text/html": [
              "<div>\n",
              "<style scoped>\n",
              "    .dataframe tbody tr th:only-of-type {\n",
              "        vertical-align: middle;\n",
              "    }\n",
              "\n",
              "    .dataframe tbody tr th {\n",
              "        vertical-align: top;\n",
              "    }\n",
              "\n",
              "    .dataframe thead th {\n",
              "        text-align: right;\n",
              "    }\n",
              "</style>\n",
              "<table border=\"1\" class=\"dataframe\">\n",
              "  <thead>\n",
              "    <tr style=\"text-align: right;\">\n",
              "      <th></th>\n",
              "      <th>reconstruction_error</th>\n",
              "      <th>Label</th>\n",
              "    </tr>\n",
              "  </thead>\n",
              "  <tbody>\n",
              "    <tr>\n",
              "      <th>count</th>\n",
              "      <td>1727.000000</td>\n",
              "      <td>1727.000000</td>\n",
              "    </tr>\n",
              "    <tr>\n",
              "      <th>mean</th>\n",
              "      <td>0.000703</td>\n",
              "      <td>0.002316</td>\n",
              "    </tr>\n",
              "    <tr>\n",
              "      <th>std</th>\n",
              "      <td>0.006437</td>\n",
              "      <td>0.048085</td>\n",
              "    </tr>\n",
              "    <tr>\n",
              "      <th>min</th>\n",
              "      <td>0.000008</td>\n",
              "      <td>0.000000</td>\n",
              "    </tr>\n",
              "    <tr>\n",
              "      <th>25%</th>\n",
              "      <td>0.000018</td>\n",
              "      <td>0.000000</td>\n",
              "    </tr>\n",
              "    <tr>\n",
              "      <th>50%</th>\n",
              "      <td>0.000018</td>\n",
              "      <td>0.000000</td>\n",
              "    </tr>\n",
              "    <tr>\n",
              "      <th>75%</th>\n",
              "      <td>0.000019</td>\n",
              "      <td>0.000000</td>\n",
              "    </tr>\n",
              "    <tr>\n",
              "      <th>max</th>\n",
              "      <td>0.163409</td>\n",
              "      <td>1.000000</td>\n",
              "    </tr>\n",
              "  </tbody>\n",
              "</table>\n",
              "</div>"
            ],
            "text/plain": [
              "       reconstruction_error        Label\n",
              "count           1727.000000  1727.000000\n",
              "mean               0.000703     0.002316\n",
              "std                0.006437     0.048085\n",
              "min                0.000008     0.000000\n",
              "25%                0.000018     0.000000\n",
              "50%                0.000018     0.000000\n",
              "75%                0.000019     0.000000\n",
              "max                0.163409     1.000000"
            ]
          },
          "metadata": {
            "tags": []
          },
          "execution_count": 194
        }
      ]
    },
    {
      "cell_type": "markdown",
      "metadata": {
        "id": "vpdhb3UBURMh"
      },
      "source": [
        "**Indexes having Reconstruction Error grater than 1.0 are Considered as Anomalies / Outliers**\r\n"
      ]
    },
    {
      "cell_type": "code",
      "metadata": {
        "id": "ieHgQ6rMZPyt",
        "colab": {
          "base_uri": "https://localhost:8080/",
          "height": 538
        },
        "outputId": "c58ba11e-d5fd-4d9c-a9d4-753cf0efce94"
      },
      "source": [
        "plt.figure(figsize=(16,8))\n",
        "plt.scatter(df_error.index, df_error['reconstruction_error'], c=df_error['Label'], edgecolor='black', s=25)\n",
        "plt.xlabel('Data Index', fontsize = 18)\n",
        "plt.ylabel('Reconstruction Error', fontsize = 18)\n",
        "plt.xlim((-100,9000))\n",
        "plt.title(\"Outlier Score\")\n"
      ],
      "execution_count": null,
      "outputs": [
        {
          "output_type": "execute_result",
          "data": {
            "text/plain": [
              "Text(0.5, 1.0, 'Outlier Score')"
            ]
          },
          "metadata": {
            "tags": []
          },
          "execution_count": 195
        },
        {
          "output_type": "display_data",
          "data": {
            "image/png": "[encoded data removed]",
            "text/plain": [
              "<Figure size 1152x576 with 1 Axes>"
            ]
          },
          "metadata": {
            "tags": [],
            "needs_background": "light"
          }
        }
      ]
    },
    {
      "cell_type": "code",
      "metadata": {
        "id": "P29zjgT_ZPyu",
        "colab": {
          "base_uri": "https://localhost:8080/",
          "height": 359
        },
        "outputId": "01809791-5adf-431e-bcbf-2714d5e88635"
      },
      "source": [
        "df_error.sort_values(ascending=False, by = 'reconstruction_error').head(10)"
      ],
      "execution_count": null,
      "outputs": [
        {
          "output_type": "execute_result",
          "data": {
            "text/html": [
              "<div>\n",
              "<style scoped>\n",
              "    .dataframe tbody tr th:only-of-type {\n",
              "        vertical-align: middle;\n",
              "    }\n",
              "\n",
              "    .dataframe tbody tr th {\n",
              "        vertical-align: top;\n",
              "    }\n",
              "\n",
              "    .dataframe thead th {\n",
              "        text-align: right;\n",
              "    }\n",
              "</style>\n",
              "<table border=\"1\" class=\"dataframe\">\n",
              "  <thead>\n",
              "    <tr style=\"text-align: right;\">\n",
              "      <th></th>\n",
              "      <th>reconstruction_error</th>\n",
              "      <th>Label</th>\n",
              "    </tr>\n",
              "  </thead>\n",
              "  <tbody>\n",
              "    <tr>\n",
              "      <th>7168</th>\n",
              "      <td>0.163409</td>\n",
              "      <td>0</td>\n",
              "    </tr>\n",
              "    <tr>\n",
              "      <th>7112</th>\n",
              "      <td>0.140829</td>\n",
              "      <td>0</td>\n",
              "    </tr>\n",
              "    <tr>\n",
              "      <th>7105</th>\n",
              "      <td>0.089279</td>\n",
              "      <td>0</td>\n",
              "    </tr>\n",
              "    <tr>\n",
              "      <th>361</th>\n",
              "      <td>0.063100</td>\n",
              "      <td>0</td>\n",
              "    </tr>\n",
              "    <tr>\n",
              "      <th>2242</th>\n",
              "      <td>0.040480</td>\n",
              "      <td>0</td>\n",
              "    </tr>\n",
              "    <tr>\n",
              "      <th>8</th>\n",
              "      <td>0.039985</td>\n",
              "      <td>0</td>\n",
              "    </tr>\n",
              "    <tr>\n",
              "      <th>6924</th>\n",
              "      <td>0.039482</td>\n",
              "      <td>0</td>\n",
              "    </tr>\n",
              "    <tr>\n",
              "      <th>7113</th>\n",
              "      <td>0.038002</td>\n",
              "      <td>0</td>\n",
              "    </tr>\n",
              "    <tr>\n",
              "      <th>346</th>\n",
              "      <td>0.035375</td>\n",
              "      <td>0</td>\n",
              "    </tr>\n",
              "    <tr>\n",
              "      <th>498</th>\n",
              "      <td>0.031786</td>\n",
              "      <td>0</td>\n",
              "    </tr>\n",
              "  </tbody>\n",
              "</table>\n",
              "</div>"
            ],
            "text/plain": [
              "      reconstruction_error  Label\n",
              "7168              0.163409      0\n",
              "7112              0.140829      0\n",
              "7105              0.089279      0\n",
              "361               0.063100      0\n",
              "2242              0.040480      0\n",
              "8                 0.039985      0\n",
              "6924              0.039482      0\n",
              "7113              0.038002      0\n",
              "346               0.035375      0\n",
              "498               0.031786      0"
            ]
          },
          "metadata": {
            "tags": []
          },
          "execution_count": 196
        }
      ]
    },
    {
      "cell_type": "code",
      "metadata": {
        "colab": {
          "base_uri": "https://localhost:8080/"
        },
        "id": "I05aovQUr6am",
        "outputId": "02d61bb0-65a1-4e5e-defb-52f7cb4c7dff"
      },
      "source": [
        "df1.loc[7168]"
      ],
      "execution_count": null,
      "outputs": [
        {
          "output_type": "execute_result",
          "data": {
            "text/plain": [
              "cpu_usage           1.216667e+00\n",
              "memory_usage[kb]    2.080375e+07\n",
              "label               0.000000e+00\n",
              "Name: 7168, dtype: float64"
            ]
          },
          "metadata": {
            "tags": []
          },
          "execution_count": 197
        }
      ]
    },
    {
      "cell_type": "code",
      "metadata": {
        "id": "58C_4CJIZPyu"
      },
      "source": [
        "outliers = df_error.index[df_error.reconstruction_error > 0.1].tolist()"
      ],
      "execution_count": null,
      "outputs": []
    },
    {
      "cell_type": "code",
      "metadata": {
        "colab": {
          "base_uri": "https://localhost:8080/"
        },
        "id": "6Wojbae4n8lE",
        "outputId": "b401de80-2f3a-4dd1-9a72-c46d776d5a5c"
      },
      "source": [
        "outliers"
      ],
      "execution_count": null,
      "outputs": [
        {
          "output_type": "execute_result",
          "data": {
            "text/plain": [
              "[7168, 7112]"
            ]
          },
          "metadata": {
            "tags": []
          },
          "execution_count": 200
        }
      ]
    }
  ]
}